{
 "metadata": {
  "language_info": {
   "codemirror_mode": {
    "name": "ipython",
    "version": 3
   },
   "file_extension": ".py",
   "mimetype": "text/x-python",
   "name": "python",
   "nbconvert_exporter": "python",
   "pygments_lexer": "ipython3",
   "version": "3.8.2-final"
  },
  "orig_nbformat": 2,
  "kernelspec": {
   "name": "Python 3.8.2 64-bit ('venv')",
   "display_name": "Python 3.8.2 64-bit ('venv')",
   "metadata": {
    "interpreter": {
     "hash": "8d822881b5c3bd9b0375ffb00a565f2cdb959527e5f6c481b13db63d943a3f25"
    }
   }
  }
 },
 "nbformat": 4,
 "nbformat_minor": 2,
 "cells": [
  {
   "cell_type": "code",
   "execution_count": 1,
   "metadata": {},
   "outputs": [],
   "source": [
    "from src.data.get_data_inmet import GetInmetData\n",
    "from src.data.get_data_isd import GetIsdData\n",
    "from src.features.feature_engineering import Features\n",
    "import seaborn as sns"
   ]
  },
  {
   "cell_type": "code",
   "execution_count": 2,
   "metadata": {},
   "outputs": [],
   "source": [
    "inmet = GetInmetData()"
   ]
  },
  {
   "cell_type": "code",
   "execution_count": 3,
   "metadata": {},
   "outputs": [
    {
     "output_type": "stream",
     "name": "stdout",
     "text": [
      "Downloading SAO PAULO - MIRANTE data\n",
      "Download complete\n",
      "Processing files\n",
      "Done!\n"
     ]
    }
   ],
   "source": [
    "inmet.download_inmet_data()"
   ]
  },
  {
   "cell_type": "code",
   "execution_count": 4,
   "metadata": {},
   "outputs": [],
   "source": [
    "isd = GetIsdData()"
   ]
  },
  {
   "cell_type": "code",
   "execution_count": 5,
   "metadata": {},
   "outputs": [
    {
     "output_type": "stream",
     "name": "stdout",
     "text": [
      "Downloading SBGR data\n",
      "Download complete\n",
      "Extracting data\n",
      "Done!\n"
     ]
    }
   ],
   "source": [
    "isd.download_isd_data()"
   ]
  },
  {
   "cell_type": "code",
   "execution_count": 6,
   "metadata": {},
   "outputs": [],
   "source": [
    "features = Features()\n",
    "features.unify_data()\n",
    "features.remove_outliers()\n",
    "features.rolling_windows()\n",
    "features.extract_fog()\n",
    "features.normalize_data()"
   ]
  },
  {
   "cell_type": "code",
   "execution_count": 8,
   "metadata": {},
   "outputs": [
    {
     "output_type": "execute_result",
     "data": {
      "text/plain": [
       "   direction     speed  visibility  coverage   ceiling  temperature       dew  \\\n",
       "0   0.444444  0.147059        1.00  0.777778  0.318727     0.583333  0.689655   \n",
       "1   0.388889  0.176471        1.00  0.444444  1.000000     0.555556  0.689655   \n",
       "2   0.305556  0.058824        1.00  0.444444  0.937512     0.583333  0.689655   \n",
       "3   0.472222  0.147059        0.35  0.444444  0.468851     0.555556  0.689655   \n",
       "4   0.416667  0.117647        0.70  0.222222  0.393789     0.555556  0.689655   \n",
       "\n",
       "        slp        rh  precipitation  ...  precipitation_12  precipitation_15  \\\n",
       "0  0.379310  0.738095       0.000000  ...          0.000000          0.000000   \n",
       "1  0.413793  0.797619       0.007712  ...          0.002787          0.002775   \n",
       "2  0.413793  0.738095       0.000000  ...          0.002787          0.002775   \n",
       "3  0.379310  0.797619       0.000000  ...          0.002787          0.002775   \n",
       "4  0.379310  0.797619       0.000000  ...          0.002787          0.002775   \n",
       "\n",
       "   precipitation_18  radiation_3  radiation_6  radiation_9  radiation_12  \\\n",
       "0          0.000000          0.0          0.0          0.0           0.0   \n",
       "1          0.002775          0.0          0.0          0.0           0.0   \n",
       "2          0.002775          0.0          0.0          0.0           0.0   \n",
       "3          0.002775          0.0          0.0          0.0           0.0   \n",
       "4          0.002775          0.0          0.0          0.0           0.0   \n",
       "\n",
       "   radiation_15  radiation_18  fog  \n",
       "0           0.0           0.0  0.0  \n",
       "1           0.0           0.0  0.0  \n",
       "2           0.0           0.0  0.0  \n",
       "3           0.0           0.0  0.0  \n",
       "4           0.0           0.0  0.0  \n",
       "\n",
       "[5 rows x 24 columns]"
      ],
      "text/html": "<div>\n<style scoped>\n    .dataframe tbody tr th:only-of-type {\n        vertical-align: middle;\n    }\n\n    .dataframe tbody tr th {\n        vertical-align: top;\n    }\n\n    .dataframe thead th {\n        text-align: right;\n    }\n</style>\n<table border=\"1\" class=\"dataframe\">\n  <thead>\n    <tr style=\"text-align: right;\">\n      <th></th>\n      <th>direction</th>\n      <th>speed</th>\n      <th>visibility</th>\n      <th>coverage</th>\n      <th>ceiling</th>\n      <th>temperature</th>\n      <th>dew</th>\n      <th>slp</th>\n      <th>rh</th>\n      <th>precipitation</th>\n      <th>...</th>\n      <th>precipitation_12</th>\n      <th>precipitation_15</th>\n      <th>precipitation_18</th>\n      <th>radiation_3</th>\n      <th>radiation_6</th>\n      <th>radiation_9</th>\n      <th>radiation_12</th>\n      <th>radiation_15</th>\n      <th>radiation_18</th>\n      <th>fog</th>\n    </tr>\n  </thead>\n  <tbody>\n    <tr>\n      <th>0</th>\n      <td>0.444444</td>\n      <td>0.147059</td>\n      <td>1.00</td>\n      <td>0.777778</td>\n      <td>0.318727</td>\n      <td>0.583333</td>\n      <td>0.689655</td>\n      <td>0.379310</td>\n      <td>0.738095</td>\n      <td>0.000000</td>\n      <td>...</td>\n      <td>0.000000</td>\n      <td>0.000000</td>\n      <td>0.000000</td>\n      <td>0.0</td>\n      <td>0.0</td>\n      <td>0.0</td>\n      <td>0.0</td>\n      <td>0.0</td>\n      <td>0.0</td>\n      <td>0.0</td>\n    </tr>\n    <tr>\n      <th>1</th>\n      <td>0.388889</td>\n      <td>0.176471</td>\n      <td>1.00</td>\n      <td>0.444444</td>\n      <td>1.000000</td>\n      <td>0.555556</td>\n      <td>0.689655</td>\n      <td>0.413793</td>\n      <td>0.797619</td>\n      <td>0.007712</td>\n      <td>...</td>\n      <td>0.002787</td>\n      <td>0.002775</td>\n      <td>0.002775</td>\n      <td>0.0</td>\n      <td>0.0</td>\n      <td>0.0</td>\n      <td>0.0</td>\n      <td>0.0</td>\n      <td>0.0</td>\n      <td>0.0</td>\n    </tr>\n    <tr>\n      <th>2</th>\n      <td>0.305556</td>\n      <td>0.058824</td>\n      <td>1.00</td>\n      <td>0.444444</td>\n      <td>0.937512</td>\n      <td>0.583333</td>\n      <td>0.689655</td>\n      <td>0.413793</td>\n      <td>0.738095</td>\n      <td>0.000000</td>\n      <td>...</td>\n      <td>0.002787</td>\n      <td>0.002775</td>\n      <td>0.002775</td>\n      <td>0.0</td>\n      <td>0.0</td>\n      <td>0.0</td>\n      <td>0.0</td>\n      <td>0.0</td>\n      <td>0.0</td>\n      <td>0.0</td>\n    </tr>\n    <tr>\n      <th>3</th>\n      <td>0.472222</td>\n      <td>0.147059</td>\n      <td>0.35</td>\n      <td>0.444444</td>\n      <td>0.468851</td>\n      <td>0.555556</td>\n      <td>0.689655</td>\n      <td>0.379310</td>\n      <td>0.797619</td>\n      <td>0.000000</td>\n      <td>...</td>\n      <td>0.002787</td>\n      <td>0.002775</td>\n      <td>0.002775</td>\n      <td>0.0</td>\n      <td>0.0</td>\n      <td>0.0</td>\n      <td>0.0</td>\n      <td>0.0</td>\n      <td>0.0</td>\n      <td>0.0</td>\n    </tr>\n    <tr>\n      <th>4</th>\n      <td>0.416667</td>\n      <td>0.117647</td>\n      <td>0.70</td>\n      <td>0.222222</td>\n      <td>0.393789</td>\n      <td>0.555556</td>\n      <td>0.689655</td>\n      <td>0.379310</td>\n      <td>0.797619</td>\n      <td>0.000000</td>\n      <td>...</td>\n      <td>0.002787</td>\n      <td>0.002775</td>\n      <td>0.002775</td>\n      <td>0.0</td>\n      <td>0.0</td>\n      <td>0.0</td>\n      <td>0.0</td>\n      <td>0.0</td>\n      <td>0.0</td>\n      <td>0.0</td>\n    </tr>\n  </tbody>\n</table>\n<p>5 rows × 24 columns</p>\n</div>"
     },
     "metadata": {},
     "execution_count": 8
    }
   ],
   "source": [
    "import pandas as pd\n",
    "import numpy as np\n",
    "\n",
    "data = pd.read_csv('data/processed/fog_min_max_scaled.csv')\n",
    "data.head()"
   ]
  },
  {
   "cell_type": "code",
   "execution_count": null,
   "metadata": {},
   "outputs": [],
   "source": []
  }
 ]
}