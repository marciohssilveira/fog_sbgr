{
 "metadata": {
  "language_info": {
   "codemirror_mode": {
    "name": "ipython",
    "version": 3
   },
   "file_extension": ".py",
   "mimetype": "text/x-python",
   "name": "python",
   "nbconvert_exporter": "python",
   "pygments_lexer": "ipython3",
   "version": "3.8.5-final"
  },
  "orig_nbformat": 2,
  "kernelspec": {
   "name": "Python 3.8.5 64-bit ('venv')",
   "display_name": "Python 3.8.5 64-bit ('venv')",
   "metadata": {
    "interpreter": {
     "hash": "8d822881b5c3bd9b0375ffb00a565f2cdb959527e5f6c481b13db63d943a3f25"
    }
   }
  }
 },
 "nbformat": 4,
 "nbformat_minor": 2,
 "cells": [
  {
   "cell_type": "code",
   "execution_count": 5,
   "metadata": {},
   "outputs": [],
   "source": [
    "from src.data.get_data_inmet import GetInmetData\n",
    "from src.data.get_data_isd import GetIsdData\n",
    "from src.features.feature_engineering import Features\n",
    "import seaborn as sns"
   ]
  },
  {
   "cell_type": "code",
   "execution_count": 2,
   "metadata": {},
   "outputs": [],
   "source": [
    "inmet = GetInmetData()"
   ]
  },
  {
   "cell_type": "code",
   "execution_count": 3,
   "metadata": {},
   "outputs": [
    {
     "output_type": "stream",
     "name": "stdout",
     "text": [
      "Downloading SAO PAULO - MIRANTE data\n",
      "Download complete\n",
      "Processing files\n",
      "Done!\n"
     ]
    }
   ],
   "source": [
    "inmet.download_inmet_data()"
   ]
  },
  {
   "cell_type": "code",
   "execution_count": 4,
   "metadata": {},
   "outputs": [],
   "source": [
    "isd = GetIsdData()"
   ]
  },
  {
   "cell_type": "code",
   "execution_count": 5,
   "metadata": {},
   "outputs": [
    {
     "output_type": "stream",
     "name": "stdout",
     "text": [
      "Downloading SBGR data\n",
      "Download complete\n",
      "Extracting data\n",
      "Done!\n"
     ]
    }
   ],
   "source": [
    "isd.download_isd_data()"
   ]
  },
  {
   "cell_type": "code",
   "execution_count": 2,
   "metadata": {},
   "outputs": [],
   "source": [
    "features = Features()\n",
    "features.unify_data()\n",
    "features.remove_outliers()\n",
    "features.rolling_windows()\n",
    "features.extract_fog()\n",
    "features.normalize_data()"
   ]
  },
  {
   "cell_type": "code",
   "execution_count": 3,
   "metadata": {},
   "outputs": [
    {
     "output_type": "execute_result",
     "data": {
      "text/plain": [
       "          direction         speed    visibility      coverage       ceiling  \\\n",
       "count  84404.000000  84404.000000  84404.000000  84404.000000  84404.000000   \n",
       "mean       0.368451      0.134132      0.860453      0.404804      0.689336   \n",
       "std        0.261310      0.092239      0.231970      0.355858      0.369822   \n",
       "min        0.000000      0.000000      0.000000      0.000000      0.000000   \n",
       "25%        0.194444      0.058824      0.800000      0.000000      0.247476   \n",
       "50%        0.305556      0.147059      0.999900      0.444444      1.000000   \n",
       "75%        0.472222      0.176471      1.000000      0.777778      1.000000   \n",
       "max        1.000000      1.000000      1.000000      1.000000      1.000000   \n",
       "\n",
       "        temperature           dew           slp            rh  precipitation  \\\n",
       "count  84404.000000  84404.000000  84404.000000  84404.000000   84404.000000   \n",
       "mean       0.523356      0.622181      0.503755      0.778149       0.003341   \n",
       "std        0.133936      0.122633      0.141797      0.210134       0.021602   \n",
       "min        0.000000      0.000000      0.000000      0.000000       0.000000   \n",
       "25%        0.416667      0.551724      0.413793      0.666667       0.000000   \n",
       "50%        0.527778      0.620690      0.482759      0.857143       0.000000   \n",
       "75%        0.611111      0.724138      0.586207      0.928571       0.000000   \n",
       "max        1.000000      1.000000      1.000000      1.000000       1.000000   \n",
       "\n",
       "       ...  precipitation_12  precipitation_15  precipitation_18  \\\n",
       "count  ...      84404.000000      84404.000000      84404.000000   \n",
       "mean   ...          0.014489          0.018036          0.021643   \n",
       "std    ...          0.051555          0.058740          0.065440   \n",
       "min    ...          0.000000          0.000000          0.000000   \n",
       "25%    ...          0.000000          0.000000          0.000000   \n",
       "50%    ...          0.000000          0.000000          0.000000   \n",
       "75%    ...          0.001393          0.002775          0.005550   \n",
       "max    ...          1.000000          1.000000          1.000000   \n",
       "\n",
       "        radiation_3   radiation_6   radiation_9  radiation_12  radiation_15  \\\n",
       "count  84404.000000  84404.000000  84404.000000  84404.000000  84404.000000   \n",
       "mean       0.165670      0.178972      0.197913      0.219035      0.257751   \n",
       "std        0.241294      0.232694      0.222130      0.207454      0.202530   \n",
       "min        0.000000      0.000000      0.000000      0.000000      0.000000   \n",
       "25%        0.000000      0.000000      0.004910      0.028030      0.072716   \n",
       "50%        0.018327      0.056492      0.106067      0.159969      0.224447   \n",
       "75%        0.273048      0.308802      0.345543      0.374981      0.415682   \n",
       "max        1.000000      1.000000      1.000000      1.000000      1.000000   \n",
       "\n",
       "       radiation_18           fog  \n",
       "count  84404.000000  84404.000000  \n",
       "mean       0.308560      0.012570  \n",
       "std        0.197324      0.111412  \n",
       "min        0.000000      0.000000  \n",
       "25%        0.136622      0.000000  \n",
       "50%        0.292427      0.000000  \n",
       "75%        0.460938      0.000000  \n",
       "max        1.000000      1.000000  \n",
       "\n",
       "[8 rows x 24 columns]"
      ],
      "text/html": "<div>\n<style scoped>\n    .dataframe tbody tr th:only-of-type {\n        vertical-align: middle;\n    }\n\n    .dataframe tbody tr th {\n        vertical-align: top;\n    }\n\n    .dataframe thead th {\n        text-align: right;\n    }\n</style>\n<table border=\"1\" class=\"dataframe\">\n  <thead>\n    <tr style=\"text-align: right;\">\n      <th></th>\n      <th>direction</th>\n      <th>speed</th>\n      <th>visibility</th>\n      <th>coverage</th>\n      <th>ceiling</th>\n      <th>temperature</th>\n      <th>dew</th>\n      <th>slp</th>\n      <th>rh</th>\n      <th>precipitation</th>\n      <th>...</th>\n      <th>precipitation_12</th>\n      <th>precipitation_15</th>\n      <th>precipitation_18</th>\n      <th>radiation_3</th>\n      <th>radiation_6</th>\n      <th>radiation_9</th>\n      <th>radiation_12</th>\n      <th>radiation_15</th>\n      <th>radiation_18</th>\n      <th>fog</th>\n    </tr>\n  </thead>\n  <tbody>\n    <tr>\n      <th>count</th>\n      <td>84404.000000</td>\n      <td>84404.000000</td>\n      <td>84404.000000</td>\n      <td>84404.000000</td>\n      <td>84404.000000</td>\n      <td>84404.000000</td>\n      <td>84404.000000</td>\n      <td>84404.000000</td>\n      <td>84404.000000</td>\n      <td>84404.000000</td>\n      <td>...</td>\n      <td>84404.000000</td>\n      <td>84404.000000</td>\n      <td>84404.000000</td>\n      <td>84404.000000</td>\n      <td>84404.000000</td>\n      <td>84404.000000</td>\n      <td>84404.000000</td>\n      <td>84404.000000</td>\n      <td>84404.000000</td>\n      <td>84404.000000</td>\n    </tr>\n    <tr>\n      <th>mean</th>\n      <td>0.368451</td>\n      <td>0.134132</td>\n      <td>0.860453</td>\n      <td>0.404804</td>\n      <td>0.689336</td>\n      <td>0.523356</td>\n      <td>0.622181</td>\n      <td>0.503755</td>\n      <td>0.778149</td>\n      <td>0.003341</td>\n      <td>...</td>\n      <td>0.014489</td>\n      <td>0.018036</td>\n      <td>0.021643</td>\n      <td>0.165670</td>\n      <td>0.178972</td>\n      <td>0.197913</td>\n      <td>0.219035</td>\n      <td>0.257751</td>\n      <td>0.308560</td>\n      <td>0.012570</td>\n    </tr>\n    <tr>\n      <th>std</th>\n      <td>0.261310</td>\n      <td>0.092239</td>\n      <td>0.231970</td>\n      <td>0.355858</td>\n      <td>0.369822</td>\n      <td>0.133936</td>\n      <td>0.122633</td>\n      <td>0.141797</td>\n      <td>0.210134</td>\n      <td>0.021602</td>\n      <td>...</td>\n      <td>0.051555</td>\n      <td>0.058740</td>\n      <td>0.065440</td>\n      <td>0.241294</td>\n      <td>0.232694</td>\n      <td>0.222130</td>\n      <td>0.207454</td>\n      <td>0.202530</td>\n      <td>0.197324</td>\n      <td>0.111412</td>\n    </tr>\n    <tr>\n      <th>min</th>\n      <td>0.000000</td>\n      <td>0.000000</td>\n      <td>0.000000</td>\n      <td>0.000000</td>\n      <td>0.000000</td>\n      <td>0.000000</td>\n      <td>0.000000</td>\n      <td>0.000000</td>\n      <td>0.000000</td>\n      <td>0.000000</td>\n      <td>...</td>\n      <td>0.000000</td>\n      <td>0.000000</td>\n      <td>0.000000</td>\n      <td>0.000000</td>\n      <td>0.000000</td>\n      <td>0.000000</td>\n      <td>0.000000</td>\n      <td>0.000000</td>\n      <td>0.000000</td>\n      <td>0.000000</td>\n    </tr>\n    <tr>\n      <th>25%</th>\n      <td>0.194444</td>\n      <td>0.058824</td>\n      <td>0.800000</td>\n      <td>0.000000</td>\n      <td>0.247476</td>\n      <td>0.416667</td>\n      <td>0.551724</td>\n      <td>0.413793</td>\n      <td>0.666667</td>\n      <td>0.000000</td>\n      <td>...</td>\n      <td>0.000000</td>\n      <td>0.000000</td>\n      <td>0.000000</td>\n      <td>0.000000</td>\n      <td>0.000000</td>\n      <td>0.004910</td>\n      <td>0.028030</td>\n      <td>0.072716</td>\n      <td>0.136622</td>\n      <td>0.000000</td>\n    </tr>\n    <tr>\n      <th>50%</th>\n      <td>0.305556</td>\n      <td>0.147059</td>\n      <td>0.999900</td>\n      <td>0.444444</td>\n      <td>1.000000</td>\n      <td>0.527778</td>\n      <td>0.620690</td>\n      <td>0.482759</td>\n      <td>0.857143</td>\n      <td>0.000000</td>\n      <td>...</td>\n      <td>0.000000</td>\n      <td>0.000000</td>\n      <td>0.000000</td>\n      <td>0.018327</td>\n      <td>0.056492</td>\n      <td>0.106067</td>\n      <td>0.159969</td>\n      <td>0.224447</td>\n      <td>0.292427</td>\n      <td>0.000000</td>\n    </tr>\n    <tr>\n      <th>75%</th>\n      <td>0.472222</td>\n      <td>0.176471</td>\n      <td>1.000000</td>\n      <td>0.777778</td>\n      <td>1.000000</td>\n      <td>0.611111</td>\n      <td>0.724138</td>\n      <td>0.586207</td>\n      <td>0.928571</td>\n      <td>0.000000</td>\n      <td>...</td>\n      <td>0.001393</td>\n      <td>0.002775</td>\n      <td>0.005550</td>\n      <td>0.273048</td>\n      <td>0.308802</td>\n      <td>0.345543</td>\n      <td>0.374981</td>\n      <td>0.415682</td>\n      <td>0.460938</td>\n      <td>0.000000</td>\n    </tr>\n    <tr>\n      <th>max</th>\n      <td>1.000000</td>\n      <td>1.000000</td>\n      <td>1.000000</td>\n      <td>1.000000</td>\n      <td>1.000000</td>\n      <td>1.000000</td>\n      <td>1.000000</td>\n      <td>1.000000</td>\n      <td>1.000000</td>\n      <td>1.000000</td>\n      <td>...</td>\n      <td>1.000000</td>\n      <td>1.000000</td>\n      <td>1.000000</td>\n      <td>1.000000</td>\n      <td>1.000000</td>\n      <td>1.000000</td>\n      <td>1.000000</td>\n      <td>1.000000</td>\n      <td>1.000000</td>\n      <td>1.000000</td>\n    </tr>\n  </tbody>\n</table>\n<p>8 rows × 24 columns</p>\n</div>"
     },
     "metadata": {},
     "execution_count": 3
    }
   ],
   "source": [
    "import pandas as pd\n",
    "import numpy as np\n",
    "\n",
    "data = pd.read_csv('data/processed/fog_min_max_scaled.csv')\n",
    "data.describe()"
   ]
  },
  {
   "cell_type": "code",
   "execution_count": null,
   "metadata": {},
   "outputs": [],
   "source": []
  }
 ]
}