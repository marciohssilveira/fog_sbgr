{
 "metadata": {
  "language_info": {
   "codemirror_mode": {
    "name": "ipython",
    "version": 3
   },
   "file_extension": ".py",
   "mimetype": "text/x-python",
   "name": "python",
   "nbconvert_exporter": "python",
   "pygments_lexer": "ipython3",
   "version": "3.8.5-final"
  },
  "orig_nbformat": 2,
  "kernelspec": {
   "name": "Python 3.8.5 64-bit ('venv')",
   "display_name": "Python 3.8.5 64-bit ('venv')",
   "metadata": {
    "interpreter": {
     "hash": "8d822881b5c3bd9b0375ffb00a565f2cdb959527e5f6c481b13db63d943a3f25"
    }
   }
  }
 },
 "nbformat": 4,
 "nbformat_minor": 2,
 "cells": [
  {
   "cell_type": "code",
   "execution_count": 1,
   "metadata": {},
   "outputs": [],
   "source": [
    "from src.data.get_data_inmet import GetInmetData\n",
    "from src.data.get_data_isd import GetIsdData"
   ]
  },
  {
   "cell_type": "code",
   "execution_count": 2,
   "metadata": {},
   "outputs": [],
   "source": [
    "inmet = GetInmetData()"
   ]
  },
  {
   "cell_type": "code",
   "execution_count": 3,
   "metadata": {},
   "outputs": [
    {
     "output_type": "stream",
     "name": "stdout",
     "text": [
      "Downloading SAO PAULO - MIRANTE data\n",
      "Download complete\n",
      "Processing files\n",
      "Done!\n"
     ]
    }
   ],
   "source": [
    "inmet.download_inmet_data()"
   ]
  },
  {
   "cell_type": "code",
   "execution_count": 4,
   "metadata": {},
   "outputs": [],
   "source": [
    "isd = GetIsdData()"
   ]
  },
  {
   "cell_type": "code",
   "execution_count": 5,
   "metadata": {},
   "outputs": [
    {
     "output_type": "stream",
     "name": "stdout",
     "text": [
      "Downloading SBGR data\n",
      "Download complete\n",
      "Extracting data\n",
      "Done!\n"
     ]
    }
   ],
   "source": [
    "isd.download_isd_data()"
   ]
  },
  {
   "cell_type": "code",
   "execution_count": 6,
   "metadata": {},
   "outputs": [],
   "source": [
    "!python src/data/unify_data.py"
   ]
  },
  {
   "cell_type": "code",
   "execution_count": 7,
   "metadata": {},
   "outputs": [],
   "source": [
    "import pandas as pd\n",
    "import numpy as np\n",
    "\n",
    "data = pd.read_csv('data/interim/unified_data.csv', index_col='DATE')\n",
    "\n",
    "# Create column for accumulated precipitation in the last 18 hours\n",
    "# Create column for accumulated precipitation in the last 12 hours\n",
    "# Create column for accumulated precipitation in the last 6 hours\n",
    "# Create column for accumulated precipitation in the last 3 hours\n",
    "# Create column for accumulated radiation in the last 18 hours\n",
    "\n",
    "def rolling_column(data, variable, hours):\n",
    "    column_name = f'{variable}_{hours}'\n",
    "    data[column_name] = np.around(data[variable].rolling(window=hours, min_periods=1).sum(), decimals=1)\n",
    "\n",
    "for i in range(3, 19, 3):\n",
    "    rolling_column(data, 'precipitation', i)\n",
    "\n",
    "rolling_column(data, 'radiation', 18)"
   ]
  },
  {
   "cell_type": "code",
   "execution_count": 9,
   "metadata": {},
   "outputs": [
    {
     "output_type": "stream",
     "name": "stdout",
     "text": [
      "<class 'pandas.core.frame.DataFrame'>\nIndex: 84404 entries, 2010-01-01 00:00:00 to 2018-12-31 23:00:00\nData columns (total 19 columns):\n #   Column            Non-Null Count  Dtype  \n---  ------            --------------  -----  \n 0   direction         84404 non-null  int64  \n 1   speed             84404 non-null  int64  \n 2   visibility        84404 non-null  float64\n 3   phenomenon        84404 non-null  object \n 4   coverage          54641 non-null  float64\n 5   ceiling           38594 non-null  float64\n 6   temperature       84264 non-null  float64\n 7   dew               84199 non-null  float64\n 8   slp               83899 non-null  float64\n 9   rh                84192 non-null  float64\n 10  precipitation     84404 non-null  float64\n 11  radiation         84404 non-null  float64\n 12  precipitation_3   84404 non-null  float64\n 13  precipitation_6   84404 non-null  float64\n 14  precipitation_9   84404 non-null  float64\n 15  precipitation_12  84404 non-null  float64\n 16  precipitation_15  84404 non-null  float64\n 17  precipitation_18  84404 non-null  float64\n 18  radiation_18      84404 non-null  float64\ndtypes: float64(16), int64(2), object(1)\nmemory usage: 12.9+ MB\n"
     ]
    }
   ],
   "source": [
    "data.info()"
   ]
  },
  {
   "cell_type": "code",
   "execution_count": null,
   "metadata": {},
   "outputs": [],
   "source": []
  },
  {
   "cell_type": "code",
   "execution_count": null,
   "metadata": {},
   "outputs": [],
   "source": []
  }
 ]
}