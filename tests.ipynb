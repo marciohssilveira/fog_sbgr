{
 "metadata": {
  "language_info": {
   "codemirror_mode": {
    "name": "ipython",
    "version": 3
   },
   "file_extension": ".py",
   "mimetype": "text/x-python",
   "name": "python",
   "nbconvert_exporter": "python",
   "pygments_lexer": "ipython3",
   "version": "3.8.5-final"
  },
  "orig_nbformat": 2,
  "kernelspec": {
   "name": "Python 3.8.5 64-bit ('venv')",
   "display_name": "Python 3.8.5 64-bit ('venv')",
   "metadata": {
    "interpreter": {
     "hash": "8d822881b5c3bd9b0375ffb00a565f2cdb959527e5f6c481b13db63d943a3f25"
    }
   }
  }
 },
 "nbformat": 4,
 "nbformat_minor": 2,
 "cells": [
  {
   "cell_type": "code",
   "execution_count": 1,
   "metadata": {},
   "outputs": [],
   "source": [
    "from src.data.get_data_inmet import GetInmetData\n",
    "from src.data.get_data_isd import GetIsdData"
   ]
  },
  {
   "cell_type": "code",
   "execution_count": 2,
   "metadata": {},
   "outputs": [],
   "source": [
    "inmet = GetInmetData()"
   ]
  },
  {
   "cell_type": "code",
   "execution_count": 3,
   "metadata": {},
   "outputs": [
    {
     "output_type": "stream",
     "name": "stdout",
     "text": [
      "Downloading SAO PAULO - MIRANTE data\n",
      "Download complete\n",
      "Processing files\n",
      "Done!\n"
     ]
    }
   ],
   "source": [
    "inmet.download_inmet_data()"
   ]
  },
  {
   "cell_type": "code",
   "execution_count": 4,
   "metadata": {},
   "outputs": [],
   "source": [
    "isd = GetIsdData()"
   ]
  },
  {
   "cell_type": "code",
   "execution_count": 5,
   "metadata": {},
   "outputs": [
    {
     "output_type": "stream",
     "name": "stdout",
     "text": [
      "Downloading SBGR data\n",
      "Download complete\n",
      "Extracting data\n",
      "Done!\n"
     ]
    }
   ],
   "source": [
    "isd.download_isd_data()"
   ]
  },
  {
   "cell_type": "code",
   "execution_count": 6,
   "metadata": {},
   "outputs": [],
   "source": [
    "!python src/data/unify_data.py"
   ]
  },
  {
   "cell_type": "code",
   "execution_count": 7,
   "metadata": {},
   "outputs": [],
   "source": [
    "import pandas as pd\n",
    "import numpy as np\n",
    "\n",
    "data = pd.read_csv('data/interim/unified_data.csv')\n",
    "\n",
    "# Create column for accumulated precipitation in the last 18 hours\n",
    "# Create column for accumulated precipitation in the last 12 hours\n",
    "# Create column for accumulated precipitation in the last 6 hours\n",
    "# Create column for accumulated precipitation in the last 3 hours\n",
    "# Create column for accumulated radiation in the last 18 hours\n",
    "\n",
    "def rolling_column(data, variable, hours):\n",
    "    column_name = f'{variable}_{hours}'\n",
    "    data[column_name] = np.around(data[variable].rolling(window=hours, min_periods=1).sum(), decimals=1)\n",
    "\n",
    "for i in range(3, 19, 3):\n",
    "    rolling_column(data, 'precipitation', i)\n",
    "\n",
    "rolling_column(data, 'radiation', 18)"
   ]
  },
  {
   "cell_type": "code",
   "execution_count": 8,
   "metadata": {},
   "outputs": [
    {
     "output_type": "execute_result",
     "data": {
      "text/plain": [
       "                      DATE  direction  speed  visibility phenomenon  coverage  \\\n",
       "0      2010-01-01 00:00:00        160      5     10000.0      CAVOK       7.0   \n",
       "1      2010-01-01 01:00:00        140      6     10000.0      CAVOK       4.0   \n",
       "2      2010-01-01 02:00:00        110      2     10000.0      CAVOK       4.0   \n",
       "3      2010-01-01 02:43:00        170      5      3500.0         BR       4.0   \n",
       "4      2010-01-01 03:00:00        150      4      7000.0      CAVOK       2.0   \n",
       "...                    ...        ...    ...         ...        ...       ...   \n",
       "84399  2018-12-31 19:00:00        140      7      9999.0      CAVOK       7.0   \n",
       "84400  2018-12-31 20:00:00        140      6      9999.0      CAVOK       4.0   \n",
       "84401  2018-12-31 21:00:00        160      7      9999.0      CAVOK       4.0   \n",
       "84402  2018-12-31 22:00:00        160      6      9999.0      CAVOK       4.0   \n",
       "84403  2018-12-31 23:00:00        160      4      9999.0      CAVOK       4.0   \n",
       "\n",
       "          ceiling cavok  temperature   dew  ...         rh  precipitation  \\\n",
       "0      1673.22840     N         22.0  18.0  ...  78.062864            0.0   \n",
       "1             NaN     N         21.0  18.0  ...  82.990399            0.6   \n",
       "2      4921.26000     N         22.0  18.0  ...  78.062864            0.0   \n",
       "3      2460.63000     N         21.0  18.0  ...  82.990399            0.0   \n",
       "4      2066.92920     N         21.0  18.0  ...  82.990399            0.0   \n",
       "...           ...   ...          ...   ...  ...        ...            ...   \n",
       "84399  3500.65628     N         28.0  21.0  ...  65.771195            0.0   \n",
       "84400         NaN     N         27.0  21.0  ...  69.735360            0.0   \n",
       "84401         NaN     N         25.0  20.0  ...  73.802512            0.0   \n",
       "84402         NaN     N         24.0  20.0  ...  78.354092            0.0   \n",
       "84403         NaN     N         23.0  20.0  ...  83.223813            0.0   \n",
       "\n",
       "       radiation  precipitation_3  precipitation_6  precipitation_9  \\\n",
       "0            0.0              0.0              0.0              0.0   \n",
       "1            0.0              0.6              0.6              0.6   \n",
       "2            0.0              0.6              0.6              0.6   \n",
       "3            0.0              0.6              0.6              0.6   \n",
       "4            0.0              0.0              0.6              0.6   \n",
       "...          ...              ...              ...              ...   \n",
       "84399     2703.9              0.0              0.0              0.0   \n",
       "84400     1941.8              0.0              0.0              0.0   \n",
       "84401      730.0              0.0              0.0              0.0   \n",
       "84402      103.4              0.0              0.0              0.0   \n",
       "84403        0.0              0.0              0.0              0.0   \n",
       "\n",
       "       precipitation_12  precipitation_15  precipitation_18  radiation_18  \n",
       "0                   0.0               0.0               0.0           0.0  \n",
       "1                   0.6               0.6               0.6           0.0  \n",
       "2                   0.6               0.6               0.6           0.0  \n",
       "3                   0.6               0.6               0.6           0.0  \n",
       "4                   0.6               0.6               0.6           0.0  \n",
       "...                 ...               ...               ...           ...  \n",
       "84399              -0.0               0.0               0.0       27473.4  \n",
       "84400              -0.0               0.0               0.0       29415.2  \n",
       "84401              -0.0               0.0               0.0       30145.2  \n",
       "84402              -0.0               0.0               0.0       30248.6  \n",
       "84403              -0.0               0.0               0.0       30248.6  \n",
       "\n",
       "[84404 rows x 21 columns]"
      ],
      "text/html": "<div>\n<style scoped>\n    .dataframe tbody tr th:only-of-type {\n        vertical-align: middle;\n    }\n\n    .dataframe tbody tr th {\n        vertical-align: top;\n    }\n\n    .dataframe thead th {\n        text-align: right;\n    }\n</style>\n<table border=\"1\" class=\"dataframe\">\n  <thead>\n    <tr style=\"text-align: right;\">\n      <th></th>\n      <th>DATE</th>\n      <th>direction</th>\n      <th>speed</th>\n      <th>visibility</th>\n      <th>phenomenon</th>\n      <th>coverage</th>\n      <th>ceiling</th>\n      <th>cavok</th>\n      <th>temperature</th>\n      <th>dew</th>\n      <th>...</th>\n      <th>rh</th>\n      <th>precipitation</th>\n      <th>radiation</th>\n      <th>precipitation_3</th>\n      <th>precipitation_6</th>\n      <th>precipitation_9</th>\n      <th>precipitation_12</th>\n      <th>precipitation_15</th>\n      <th>precipitation_18</th>\n      <th>radiation_18</th>\n    </tr>\n  </thead>\n  <tbody>\n    <tr>\n      <th>0</th>\n      <td>2010-01-01 00:00:00</td>\n      <td>160</td>\n      <td>5</td>\n      <td>10000.0</td>\n      <td>CAVOK</td>\n      <td>7.0</td>\n      <td>1673.22840</td>\n      <td>N</td>\n      <td>22.0</td>\n      <td>18.0</td>\n      <td>...</td>\n      <td>78.062864</td>\n      <td>0.0</td>\n      <td>0.0</td>\n      <td>0.0</td>\n      <td>0.0</td>\n      <td>0.0</td>\n      <td>0.0</td>\n      <td>0.0</td>\n      <td>0.0</td>\n      <td>0.0</td>\n    </tr>\n    <tr>\n      <th>1</th>\n      <td>2010-01-01 01:00:00</td>\n      <td>140</td>\n      <td>6</td>\n      <td>10000.0</td>\n      <td>CAVOK</td>\n      <td>4.0</td>\n      <td>NaN</td>\n      <td>N</td>\n      <td>21.0</td>\n      <td>18.0</td>\n      <td>...</td>\n      <td>82.990399</td>\n      <td>0.6</td>\n      <td>0.0</td>\n      <td>0.6</td>\n      <td>0.6</td>\n      <td>0.6</td>\n      <td>0.6</td>\n      <td>0.6</td>\n      <td>0.6</td>\n      <td>0.0</td>\n    </tr>\n    <tr>\n      <th>2</th>\n      <td>2010-01-01 02:00:00</td>\n      <td>110</td>\n      <td>2</td>\n      <td>10000.0</td>\n      <td>CAVOK</td>\n      <td>4.0</td>\n      <td>4921.26000</td>\n      <td>N</td>\n      <td>22.0</td>\n      <td>18.0</td>\n      <td>...</td>\n      <td>78.062864</td>\n      <td>0.0</td>\n      <td>0.0</td>\n      <td>0.6</td>\n      <td>0.6</td>\n      <td>0.6</td>\n      <td>0.6</td>\n      <td>0.6</td>\n      <td>0.6</td>\n      <td>0.0</td>\n    </tr>\n    <tr>\n      <th>3</th>\n      <td>2010-01-01 02:43:00</td>\n      <td>170</td>\n      <td>5</td>\n      <td>3500.0</td>\n      <td>BR</td>\n      <td>4.0</td>\n      <td>2460.63000</td>\n      <td>N</td>\n      <td>21.0</td>\n      <td>18.0</td>\n      <td>...</td>\n      <td>82.990399</td>\n      <td>0.0</td>\n      <td>0.0</td>\n      <td>0.6</td>\n      <td>0.6</td>\n      <td>0.6</td>\n      <td>0.6</td>\n      <td>0.6</td>\n      <td>0.6</td>\n      <td>0.0</td>\n    </tr>\n    <tr>\n      <th>4</th>\n      <td>2010-01-01 03:00:00</td>\n      <td>150</td>\n      <td>4</td>\n      <td>7000.0</td>\n      <td>CAVOK</td>\n      <td>2.0</td>\n      <td>2066.92920</td>\n      <td>N</td>\n      <td>21.0</td>\n      <td>18.0</td>\n      <td>...</td>\n      <td>82.990399</td>\n      <td>0.0</td>\n      <td>0.0</td>\n      <td>0.0</td>\n      <td>0.6</td>\n      <td>0.6</td>\n      <td>0.6</td>\n      <td>0.6</td>\n      <td>0.6</td>\n      <td>0.0</td>\n    </tr>\n    <tr>\n      <th>...</th>\n      <td>...</td>\n      <td>...</td>\n      <td>...</td>\n      <td>...</td>\n      <td>...</td>\n      <td>...</td>\n      <td>...</td>\n      <td>...</td>\n      <td>...</td>\n      <td>...</td>\n      <td>...</td>\n      <td>...</td>\n      <td>...</td>\n      <td>...</td>\n      <td>...</td>\n      <td>...</td>\n      <td>...</td>\n      <td>...</td>\n      <td>...</td>\n      <td>...</td>\n      <td>...</td>\n    </tr>\n    <tr>\n      <th>84399</th>\n      <td>2018-12-31 19:00:00</td>\n      <td>140</td>\n      <td>7</td>\n      <td>9999.0</td>\n      <td>CAVOK</td>\n      <td>7.0</td>\n      <td>3500.65628</td>\n      <td>N</td>\n      <td>28.0</td>\n      <td>21.0</td>\n      <td>...</td>\n      <td>65.771195</td>\n      <td>0.0</td>\n      <td>2703.9</td>\n      <td>0.0</td>\n      <td>0.0</td>\n      <td>0.0</td>\n      <td>-0.0</td>\n      <td>0.0</td>\n      <td>0.0</td>\n      <td>27473.4</td>\n    </tr>\n    <tr>\n      <th>84400</th>\n      <td>2018-12-31 20:00:00</td>\n      <td>140</td>\n      <td>6</td>\n      <td>9999.0</td>\n      <td>CAVOK</td>\n      <td>4.0</td>\n      <td>NaN</td>\n      <td>N</td>\n      <td>27.0</td>\n      <td>21.0</td>\n      <td>...</td>\n      <td>69.735360</td>\n      <td>0.0</td>\n      <td>1941.8</td>\n      <td>0.0</td>\n      <td>0.0</td>\n      <td>0.0</td>\n      <td>-0.0</td>\n      <td>0.0</td>\n      <td>0.0</td>\n      <td>29415.2</td>\n    </tr>\n    <tr>\n      <th>84401</th>\n      <td>2018-12-31 21:00:00</td>\n      <td>160</td>\n      <td>7</td>\n      <td>9999.0</td>\n      <td>CAVOK</td>\n      <td>4.0</td>\n      <td>NaN</td>\n      <td>N</td>\n      <td>25.0</td>\n      <td>20.0</td>\n      <td>...</td>\n      <td>73.802512</td>\n      <td>0.0</td>\n      <td>730.0</td>\n      <td>0.0</td>\n      <td>0.0</td>\n      <td>0.0</td>\n      <td>-0.0</td>\n      <td>0.0</td>\n      <td>0.0</td>\n      <td>30145.2</td>\n    </tr>\n    <tr>\n      <th>84402</th>\n      <td>2018-12-31 22:00:00</td>\n      <td>160</td>\n      <td>6</td>\n      <td>9999.0</td>\n      <td>CAVOK</td>\n      <td>4.0</td>\n      <td>NaN</td>\n      <td>N</td>\n      <td>24.0</td>\n      <td>20.0</td>\n      <td>...</td>\n      <td>78.354092</td>\n      <td>0.0</td>\n      <td>103.4</td>\n      <td>0.0</td>\n      <td>0.0</td>\n      <td>0.0</td>\n      <td>-0.0</td>\n      <td>0.0</td>\n      <td>0.0</td>\n      <td>30248.6</td>\n    </tr>\n    <tr>\n      <th>84403</th>\n      <td>2018-12-31 23:00:00</td>\n      <td>160</td>\n      <td>4</td>\n      <td>9999.0</td>\n      <td>CAVOK</td>\n      <td>4.0</td>\n      <td>NaN</td>\n      <td>N</td>\n      <td>23.0</td>\n      <td>20.0</td>\n      <td>...</td>\n      <td>83.223813</td>\n      <td>0.0</td>\n      <td>0.0</td>\n      <td>0.0</td>\n      <td>0.0</td>\n      <td>0.0</td>\n      <td>-0.0</td>\n      <td>0.0</td>\n      <td>0.0</td>\n      <td>30248.6</td>\n    </tr>\n  </tbody>\n</table>\n<p>84404 rows × 21 columns</p>\n</div>"
     },
     "metadata": {},
     "execution_count": 8
    }
   ],
   "source": [
    "data"
   ]
  },
  {
   "cell_type": "code",
   "execution_count": null,
   "metadata": {},
   "outputs": [],
   "source": []
  }
 ]
}